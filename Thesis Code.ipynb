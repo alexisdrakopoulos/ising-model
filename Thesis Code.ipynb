{
 "cells": [
  {
   "cell_type": "code",
   "execution_count": 4,
   "metadata": {},
   "outputs": [],
   "source": [
    "import numpy as np\n",
    "from tqdm import tqdm\n",
    "import pymc3 as pm\n",
    "import matplotlib.pyplot as plt\n",
    "from matplotlib import colors\n",
    "import time\n",
    "from numba import jit"
   ]
  },
  {
   "cell_type": "markdown",
   "metadata": {},
   "source": [
    "# Metropolis Ising\n",
    "\n",
    "This is my metropolis python implementation for a square ising lattice (numpy array).\n",
    "\n",
    "It uses numba and can run at over 20,000,000 iterations/second, allowing large systems to converge within minutes."
   ]
  },
  {
   "cell_type": "code",
   "execution_count": 1,
   "metadata": {},
   "outputs": [],
   "source": [
    "def mcmc_ising(n = 200,\n",
    "               nsteps = 20000000,\n",
    "               T = 1,\n",
    "               J = 1,\n",
    "               H = 0):\n",
    "    \"\"\"\n",
    "    Metropolis MCMC algorithm on the square 2D Ising lattice, extremely fast\n",
    "    \n",
    "    Inputs:\n",
    "        n = size of the ising array, always square\n",
    "        nsteps = amount of MCMC steps\n",
    "        T = Temperature of the system (kT)\n",
    "        J = The constant outside of hamiltonian\n",
    "        H = Outside field\n",
    "        \n",
    "    Outputs:\n",
    "        ising_calculation(ising_lattice) = The 2D ising array\n",
    "        nsteps = amount of MCMC steps\n",
    "        T = Temperature of the system (kT)\n",
    "        \n",
    "    Requirements:\n",
    "        NumPy (import numpy as np)\n",
    "        Numba jit (from numba import jit)\n",
    "    \"\"\"\n",
    "\n",
    "    # initialize our lattice\n",
    "    ising_lattice = np.random.choice([1, -1], size=(n, n))\n",
    "\n",
    "    # From here on down we are in numba jit\n",
    "    @jit(nopython=True)\n",
    "    def ising_calculation(lattice):\n",
    "        lattice = lattice\n",
    "\n",
    "        for step in range(nsteps):\n",
    "\n",
    "            i = np.random.randint(n)\n",
    "            j = np.random.randint(n)\n",
    "\n",
    "            # Boundary conditions and neighbours\n",
    "            Sn = lattice[(i - 1) % n, j] + lattice[(i + 1) % n, j] + \\\n",
    "                 lattice[i, (j - 1) % n] + lattice[i, (j + 1) % n]\n",
    "            dE = 2 * lattice[i, j] * (H + J * Sn)\n",
    "\n",
    "            if dE < 0 or np.random.random() < np.exp(-dE/(T)):\n",
    "                lattice[i, j] = -lattice[i, j]\n",
    "\n",
    "        return lattice\n",
    "    \n",
    "    return ising_calculation(ising_lattice), nsteps, T"
   ]
  },
  {
   "cell_type": "code",
   "execution_count": 2,
   "metadata": {},
   "outputs": [],
   "source": [
    "def plot_ising_array(ising_system, save_plot = False, file_name = \"ising_array\"):\n",
    "    \"\"\"\n",
    "    Creates a plot of a 2D numpy array with binary values and can save to users drive\n",
    "    \n",
    "    Inputs:\n",
    "        ising_system = 2D Array of binary values (ising lattice)\n",
    "        save_plot = Whether to save the plot to drive\n",
    "        file_name = String of file name, will be saved as a png\n",
    "    \n",
    "    Outputs:\n",
    "        prints a matplotlib plot\n",
    "        if save_plot = True, will save a plot with file name file_name\n",
    "    \n",
    "    Requirements:\n",
    "        matplotlib pyplot (import matplotlib.pyplot as plt)\n",
    "        matplotlib colors (from matplotlib import colors)\n",
    "    \"\"\"\n",
    "    \n",
    "    import matplotlib.pyplot as plt\n",
    "    from matplotlib import colors\n",
    "    \n",
    "    ising_system, nsteps, T = ising_system\n",
    "\n",
    "    plt.figure(figsize=(7,7))\n",
    "    plt.imshow(ising_system, cmap = colors.ListedColormap(['white', '#0550c6']))\n",
    "    \n",
    "    # Math for the correct position of the text\n",
    "    x_pos = len(ising_system) * 1.05\n",
    "    y_pos = len(ising_system) * 0.05\n",
    "    \n",
    "    # Title of the model\n",
    "    title = \"2D Ising Model \" + str(len(ising_system)) +  \"x\" + str(len(ising_system))\n",
    "    plt.text(x_pos, y_pos, title, bbox=dict(facecolor='red', alpha=0.2), size = 12)\n",
    "    \n",
    "    # Magnetization text\n",
    "    magnetization = \"Magnetization: \" + str(round(abs(np.sum(ising_system))/(len(ising_system)**2)*100,2)) + \"%\"\n",
    "    plt.text(x_pos, y_pos*3, magnetization, size = 12)\n",
    "    \n",
    "    # Metropolis steps text\n",
    "    steps_text = \"MCMC Steps: \" + str(f\"{nsteps:,}\")\n",
    "    plt.text(x_pos, y_pos*4, steps_text, size = 12)\n",
    "    \n",
    "    # Temperature text\n",
    "    temp_text = \"System Temp: \" + str(T)\n",
    "    plt.text(x_pos, y_pos*5, temp_text, size = 12)\n",
    "    \n",
    "    # Saving the plot if user selected True, as well as reformating filename\n",
    "    if save_plot:\n",
    "        file_name += \".png\"\n",
    "        plt.savefig(file_name, bbox_inches='tight', quality = 95)\n",
    "    \n",
    "    plt.show()\n",
    "    \n",
    "#plot_ising_array(mcmc_ising(n = 200, T = 1, nsteps = 2000000), save_plot = False)"
   ]
  },
  {
   "cell_type": "code",
   "execution_count": 36,
   "metadata": {},
   "outputs": [
    {
     "data": {
      "image/png": "[encoded data removed]",
      "text/plain": [
       "<Figure size 504x504 with 1 Axes>"
      ]
     },
     "metadata": {
      "needs_background": "light"
     },
     "output_type": "display_data"
    }
   ],
   "source": [
    "plot_ising_array(mcmc_ising(n = 200, T = 1, nsteps = 1000000000), save_plot = False)"
   ]
  }
 ],
 "metadata": {
  "kernelspec": {
   "display_name": "Python 3",
   "language": "python",
   "name": "python3"
  },
  "language_info": {
   "codemirror_mode": {
    "name": "ipython",
    "version": 3
   },
   "file_extension": ".py",
   "mimetype": "text/x-python",
   "name": "python",
   "nbconvert_exporter": "python",
   "pygments_lexer": "ipython3",
   "version": "3.6.7"
  }
 },
 "nbformat": 4,
 "nbformat_minor": 2
}
